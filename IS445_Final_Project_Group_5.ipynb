{
  "nbformat": 4,
  "nbformat_minor": 0,
  "metadata": {
    "colab": {
      "provenance": []
    },
    "kernelspec": {
      "name": "python3",
      "display_name": "Python 3"
    },
    "language_info": {
      "name": "python"
    }
  },
  "cells": [
    {
      "cell_type": "code",
      "source": [
        "# Choosing the dataset - together"
      ],
      "metadata": {
        "id": "_gp7bDiFlR6E"
      },
      "execution_count": null,
      "outputs": []
    },
    {
      "cell_type": "code",
      "execution_count": null,
      "metadata": {
        "id": "1vTfAWz_lAHl"
      },
      "outputs": [],
      "source": [
        "# Dataset Cleaning"
      ]
    },
    {
      "cell_type": "code",
      "source": [
        "# Setting up streamlit\n",
        "# Including a drawing or sketch of the final group"
      ],
      "metadata": {
        "id": "7auYc8jxlL2H"
      },
      "execution_count": null,
      "outputs": []
    },
    {
      "cell_type": "code",
      "source": [
        "# Each member creates visualization(s) within streamlit"
      ],
      "metadata": {
        "id": "xH-6AAvilWsi"
      },
      "execution_count": null,
      "outputs": []
    },
    {
      "cell_type": "code",
      "source": [
        "# Discuss the visualization"
      ],
      "metadata": {
        "id": "1iEm1wSElblI"
      },
      "execution_count": null,
      "outputs": []
    },
    {
      "cell_type": "code",
      "source": [
        "# Reviewing by TA"
      ],
      "metadata": {
        "id": "fdf3YfbCldQB"
      },
      "execution_count": null,
      "outputs": []
    },
    {
      "cell_type": "code",
      "source": [
        "# Timeline\n",
        "# 12/5 - outline, chosen the dataset, set up github and streamlit (Friday)\n",
        "# 12/6 - dataset cleaning, start setting up streamlit code, check in meeting (Saturday)\n",
        "# 12/7 - meet to go over everything and wrap up (Sunday)"
      ],
      "metadata": {
        "id": "-Zqu6YGjnGWE"
      },
      "execution_count": null,
      "outputs": []
    }
  ]
}